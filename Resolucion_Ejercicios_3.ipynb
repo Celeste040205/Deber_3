{
 "cells": [
  {
   "cell_type": "markdown",
   "id": "a4eb9167",
   "metadata": {},
   "source": [
    "Ejercicio 1: Aritmética de corte de 3 dígitos"
   ]
  },
  {
   "cell_type": "code",
   "execution_count": 1,
   "id": "4303cf01",
   "metadata": {},
   "outputs": [
    {
     "name": "stdout",
     "output_type": "stream",
     "text": [
      "Sumandos de 1/i^2 (orden asc):\n",
      "1/1^2 = 1.0\n",
      "1/2^2 = 0.25\n",
      "1/3^2 = 0.111\n",
      "1/4^2 = 0.0625\n",
      "1/5^2 = 0.04\n",
      "1/6^2 = 0.0278\n",
      "1/7^2 = 0.0204\n",
      "1/8^2 = 0.0156\n",
      "1/9^2 = 0.0123\n",
      "1/10^2 = 0.01\n",
      "\n",
      "Suma total: 1.55\n",
      "\n",
      "Sumandos de 1/i^2 (orden desc):\n",
      "1/10^2 = 0.01\n",
      "1/9^2 = 0.0123\n",
      "1/8^2 = 0.0156\n",
      "1/7^2 = 0.0204\n",
      "1/6^2 = 0.0278\n",
      "1/5^2 = 0.04\n",
      "1/4^2 = 0.0625\n",
      "1/3^2 = 0.111\n",
      "1/2^2 = 0.25\n",
      "1/1^2 = 1.0\n",
      "\n",
      "Suma total: 1.55\n",
      "\n"
     ]
    }
   ],
   "source": [
    "import math\n",
    "def corte_3dig(x):\n",
    "    return float(f\"{x:.3g}\")\n",
    "def mostrar_sumandos(n, k, orden=\"asc\"):\n",
    "    if orden == \"desc\":\n",
    "        indices = range(n, 0, -1)\n",
    "    else:\n",
    "        indices = range(1, n + 1)\n",
    "    \n",
    "    suma_total = (sum(1 / i**k for i in indices))\n",
    "    suma_total = corte_3dig(suma_total)\n",
    "\n",
    "    print(f\"Sumandos de 1/i^{k} (orden {orden}):\")\n",
    "    for i in indices:\n",
    "        termino = corte_3dig(1 / i**k)\n",
    "        print(f\"1/{i}^{k} = {termino}\")\n",
    "    print()\n",
    "    print(f\"Suma total: {suma_total}\\n\")\n",
    "if __name__ == \"__main__\":\n",
    "    mostrar_sumandos(10, 2, \"asc\")   # Ejercicio 1a ascendente\n",
    "    mostrar_sumandos(10, 2, \"desc\")  # Ejercicio 1a descendente\n"
   ]
  },
  {
   "cell_type": "code",
   "execution_count": 2,
   "id": "903ee0e7",
   "metadata": {},
   "outputs": [
    {
     "name": "stdout",
     "output_type": "stream",
     "text": [
      "Sumandos de 1/i^3 (orden asc):\n",
      "1/1^3 = 1.0\n",
      "1/2^3 = 0.125\n",
      "1/3^3 = 0.037\n",
      "1/4^3 = 0.0156\n",
      "1/5^3 = 0.008\n",
      "1/6^3 = 0.00463\n",
      "1/7^3 = 0.00292\n",
      "1/8^3 = 0.00195\n",
      "1/9^3 = 0.00137\n",
      "1/10^3 = 0.001\n",
      "\n",
      "Suma total: 1.2\n",
      "\n",
      "Sumandos de 1/i^3 (orden desc):\n",
      "1/10^3 = 0.001\n",
      "1/9^3 = 0.00137\n",
      "1/8^3 = 0.00195\n",
      "1/7^3 = 0.00292\n",
      "1/6^3 = 0.00463\n",
      "1/5^3 = 0.008\n",
      "1/4^3 = 0.0156\n",
      "1/3^3 = 0.037\n",
      "1/2^3 = 0.125\n",
      "1/1^3 = 1.0\n",
      "\n",
      "Suma total: 1.2\n",
      "\n"
     ]
    }
   ],
   "source": [
    "if __name__ == \"__main__\":\n",
    "    mostrar_sumandos(10, 3, \"asc\")   # Ejercicio 1b ascendente\n",
    "    mostrar_sumandos(10, 3, \"desc\")  # Ejercicio 1b descendente"
   ]
  },
  {
   "cell_type": "markdown",
   "id": "1ac166cc",
   "metadata": {},
   "source": [
    "Ejercicio 2: Serie de Maclaurin de arctan"
   ]
  },
  {
   "cell_type": "code",
   "execution_count": 5,
   "id": "94aef76a",
   "metadata": {},
   "outputs": [
    {
     "name": "stdout",
     "output_type": "stream",
     "text": [
      "Número de términos necesarios: 2\n",
      "Valor aproximado de pi: 3.1405970293260603\n",
      "Error absoluto: 0.0009956242637327861\n"
     ]
    }
   ],
   "source": [
    "import math\n",
    "\n",
    "def arctan_machin(x, n):\n",
    "    suma = 0.0\n",
    "    for i in range(1, n+1):\n",
    "        termino = ((-1)**(i+1)) * x**(2*i -1) / (2*i -1)\n",
    "        suma += termino\n",
    "    return suma\n",
    "\n",
    "def calcular_pi_machin(n):\n",
    "    return 4 * (4*arctan_machin(1/5, n) - arctan_machin(1/239, n))\n",
    "\n",
    "def n_para_error_pi(epsilon):\n",
    "    target = math.pi\n",
    "    n = 1\n",
    "    while True:\n",
    "        val = calcular_pi_machin(n)\n",
    "        error = abs(val - target)\n",
    "        if error < epsilon:\n",
    "            return n, val, error\n",
    "        n += 1\n",
    "\n",
    "if __name__ == \"__main__\":\n",
    "    epsilon = 1e-3\n",
    "    n, val, err = n_para_error_pi(epsilon)\n",
    "    print(f\"Número de términos necesarios: {n}\")\n",
    "    print(f\"Valor aproximado de pi: {val}\")\n",
    "    print(f\"Error absoluto: {err}\")\n"
   ]
  },
  {
   "cell_type": "code",
   "execution_count": 6,
   "id": "3cba99d0",
   "metadata": {},
   "outputs": [
    {
     "name": "stdout",
     "output_type": "stream",
     "text": [
      "Número de términos necesarios: 7\n",
      "Valor aproximado de pi: 3.141592653623555\n",
      "Error absoluto: 3.376188217885101e-11\n"
     ]
    }
   ],
   "source": [
    "epsilon = 1e-10\n",
    "n, val, err = n_para_error_pi(epsilon)\n",
    "print(f\"Número de términos necesarios: {n}\")\n",
    "print(f\"Valor aproximado de pi: {val}\")\n",
    "print(f\"Error absoluto: {err}\")"
   ]
  },
  {
   "cell_type": "markdown",
   "id": "36fd6b5e",
   "metadata": {},
   "source": [
    "Ejercicio 3: Machin π/4 = 4 arctan(1/5) - arctan(1/239)"
   ]
  },
  {
   "cell_type": "code",
   "execution_count": 7,
   "id": "e9d4515c",
   "metadata": {},
   "outputs": [
    {
     "name": "stdout",
     "output_type": "stream",
     "text": [
      "Número de términos necesarios: 2\n",
      "Valor aproximado de π: 3.1405970293260603\n",
      "Error absoluto: 0.0009956242637327861\n"
     ]
    }
   ],
   "source": [
    "import math\n",
    "\n",
    "def arctan_p_n(x, n):\n",
    "    suma = 0.0\n",
    "    for i in range(1, n + 1):\n",
    "        termino = ((-1)**(i+1)) * (x**(2*i - 1)) / (2*i - 1)\n",
    "        suma += termino\n",
    "    return suma\n",
    "\n",
    "def machin_pi(epsilon):\n",
    "    n = 1\n",
    "    while True:\n",
    "        p_n = 4 * arctan_p_n(1/5, n) - arctan_p_n(1/239, n)\n",
    "        valor_pi_aprox = 4 * p_n\n",
    "        error = abs(valor_pi_aprox - math.pi)\n",
    "        if error < epsilon:\n",
    "            return n, valor_pi_aprox, error\n",
    "        n += 1\n",
    "\n",
    "if __name__ == \"__main__\":\n",
    "    n, val, err = machin_pi(1e-3)\n",
    "    print(f\"Número de términos necesarios: {n}\")\n",
    "    print(f\"Valor aproximado de π: {val}\")\n",
    "    print(f\"Error absoluto: {err}\")"
   ]
  },
  {
   "cell_type": "markdown",
   "id": "03de2b87",
   "metadata": {},
   "source": [
    "Ejercicio 4: comparación de algoritmos de producto"
   ]
  },
  {
   "cell_type": "code",
   "execution_count": 9,
   "id": "21fca1f1",
   "metadata": {},
   "outputs": [
    {
     "name": "stdout",
     "output_type": "stream",
     "text": [
      "Alg1: 0\n",
      "Alg2: 30\n",
      "Alg3: 30\n"
     ]
    }
   ],
   "source": [
    "def producto_alg1(xs):\n",
    "    P = 0\n",
    "    for x in xs:\n",
    "        P *= x\n",
    "    return P\n",
    "\n",
    "def producto_alg2(xs):\n",
    "    P = 1\n",
    "    for x in xs:\n",
    "        P *= x\n",
    "    return P\n",
    "\n",
    "def producto_alg3(xs):\n",
    "    P = 1\n",
    "    for x in xs:\n",
    "        if x == 0:\n",
    "            return 0\n",
    "        P *= x\n",
    "    return P\n",
    "if __name__ == \"__main__\":\n",
    "    xs = [2, 3, 5]\n",
    "    print(\"Alg1:\", producto_alg1(xs))\n",
    "    print(\"Alg2:\", producto_alg2(xs))\n",
    "    print(\"Alg3:\", producto_alg3(xs))"
   ]
  },
  {
   "cell_type": "markdown",
   "id": "3cbe6b22",
   "metadata": {},
   "source": [
    "Ejercicio 5: complejidad de sumas dobles"
   ]
  },
  {
   "cell_type": "code",
   "execution_count": 10,
   "id": "daf6a58a",
   "metadata": {},
   "outputs": [
    {
     "name": "stdout",
     "output_type": "stream",
     "text": [
      "5a ops: (25, 24)\n",
      "5b ops optim: (1, 10)\n"
     ]
    }
   ],
   "source": [
    "def complejidad_sumadoble(n):\n",
    "    multiplicaciones = n**2\n",
    "    sumas = n**2 - 1\n",
    "    return multiplicaciones, sumas\n",
    "\n",
    "def optimizacion_sumadoble(n):\n",
    "    # Reescribe ∑∑ a_i b_j = (∑ a_i) * (∑ b_j)\n",
    "    op_sumas = 2*n\n",
    "    op_mult = 1\n",
    "    return op_mult, op_sumas\n",
    "if __name__ == \"__main__\":\n",
    "    print(\"5a ops:\", complejidad_sumadoble( n=5 ))\n",
    "    print(\"5b ops optim:\", optimizacion_sumadoble( n=5 ))"
   ]
  },
  {
   "cell_type": "markdown",
   "id": "6b1229fb",
   "metadata": {},
   "source": [
    "Discusión 1: sumar en orden inverso"
   ]
  },
  {
   "cell_type": "code",
   "execution_count": null,
   "id": "0ee19a33",
   "metadata": {},
   "outputs": [],
   "source": [
    "def suma_inversa(xs):\n",
    "    s = 0\n",
    "    for x in reversed(xs):\n",
    "        s += x\n",
    "    return s"
   ]
  },
  {
   "cell_type": "markdown",
   "id": "f8dd63bd",
   "metadata": {},
   "source": [
    "Discusión 2: ecuación cuadrática robusta"
   ]
  },
  {
   "cell_type": "code",
   "execution_count": null,
   "id": "228b9d22",
   "metadata": {},
   "outputs": [],
   "source": [
    "def raices_cuadraticas(a, b, c):\n",
    "    D = b*b - 4*a*c\n",
    "    sqrtD = math.sqrt(abs(D))\n",
    "    if D >= 0:\n",
    "        # raíces reales\n",
    "        if b >= 0:\n",
    "            x1 = (-b - sqrtD)/(2*a)\n",
    "        else:\n",
    "            x1 = (-b + sqrtD)/(2*a)\n",
    "        x2 = c/(a*x1)\n",
    "        return x1, x2\n",
    "    else:\n",
    "        # complejas\n",
    "        real = -b/(2*a)\n",
    "        imag = sqrtD/(2*a)\n",
    "        return complex(real, imag), complex(real, -imag)"
   ]
  },
  {
   "cell_type": "markdown",
   "id": "ec557564",
   "metadata": {},
   "source": [
    "Discusión 3: serie compuesta para x=0.25"
   ]
  },
  {
   "cell_type": "code",
   "execution_count": null,
   "id": "bef35401",
   "metadata": {},
   "outputs": [
    {
     "name": "stdout",
     "output_type": "stream",
     "text": [
      "Suma inversa [1,2,3]: 6\n",
      "Raíces de x^2 - 5x +6: (3.0, 2.0)\n"
     ]
    },
    {
     "ename": "KeyboardInterrupt",
     "evalue": "",
     "output_type": "error",
     "traceback": [
      "\u001b[1;31m---------------------------------------------------------------------------\u001b[0m",
      "\u001b[1;31mKeyboardInterrupt\u001b[0m                         Traceback (most recent call last)",
      "Cell \u001b[1;32mIn[26], line 14\u001b[0m\n\u001b[0;32m     12\u001b[0m \u001b[38;5;28mprint\u001b[39m(\u001b[38;5;124m\"\u001b[39m\u001b[38;5;124mSuma inversa [1,2,3]:\u001b[39m\u001b[38;5;124m\"\u001b[39m, suma_inversa([\u001b[38;5;241m1\u001b[39m,\u001b[38;5;241m2\u001b[39m,\u001b[38;5;241m3\u001b[39m]))\n\u001b[0;32m     13\u001b[0m \u001b[38;5;28mprint\u001b[39m(\u001b[38;5;124m\"\u001b[39m\u001b[38;5;124mRaíces de x^2 - 5x +6:\u001b[39m\u001b[38;5;124m\"\u001b[39m, raices_cuadraticas(\u001b[38;5;241m1\u001b[39m, \u001b[38;5;241m-\u001b[39m\u001b[38;5;241m5\u001b[39m, \u001b[38;5;241m6\u001b[39m))\n\u001b[1;32m---> 14\u001b[0m \u001b[38;5;28mprint\u001b[39m(\u001b[38;5;124m\"\u001b[39m\u001b[38;5;124mDisc3 términos necesarios:\u001b[39m\u001b[38;5;124m\"\u001b[39m, \u001b[43mserie_compuesta\u001b[49m\u001b[43m(\u001b[49m\u001b[38;5;241;43m0.25\u001b[39;49m\u001b[43m,\u001b[49m\u001b[43m \u001b[49m\u001b[38;5;241;43m1e-6\u001b[39;49m\u001b[43m)\u001b[49m)\n",
      "Cell \u001b[1;32mIn[26], line 5\u001b[0m, in \u001b[0;36mserie_compuesta\u001b[1;34m(x, tol)\u001b[0m\n\u001b[0;32m      3\u001b[0m s \u001b[38;5;241m=\u001b[39m \u001b[38;5;241m0\u001b[39m\n\u001b[0;32m      4\u001b[0m i \u001b[38;5;241m=\u001b[39m \u001b[38;5;241m1\u001b[39m\n\u001b[1;32m----> 5\u001b[0m \u001b[38;5;28;01mwhile\u001b[39;00m \u001b[38;5;28;01mTrue\u001b[39;00m:\n\u001b[0;32m      6\u001b[0m     term \u001b[38;5;241m=\u001b[39m ((\u001b[38;5;241m-\u001b[39m\u001b[38;5;241m2\u001b[39m\u001b[38;5;241m*\u001b[39mx)\u001b[38;5;241m*\u001b[39m\u001b[38;5;241m*\u001b[39mi)\u001b[38;5;241m/\u001b[39m(\u001b[38;5;241m1\u001b[39m \u001b[38;5;241m-\u001b[39m x\u001b[38;5;241m*\u001b[39m\u001b[38;5;241m*\u001b[39mi \u001b[38;5;241m+\u001b[39m x\u001b[38;5;241m*\u001b[39m\u001b[38;5;241m*\u001b[39m(\u001b[38;5;241m2\u001b[39m\u001b[38;5;241m*\u001b[39mi))\n\u001b[0;32m      7\u001b[0m     s \u001b[38;5;241m+\u001b[39m\u001b[38;5;241m=\u001b[39m term\n",
      "\u001b[1;31mKeyboardInterrupt\u001b[0m: "
     ]
    }
   ],
   "source": [
    "def serie_compuesta(x, tol):\n",
    "    target = (1 + 2*x)/(1 + x + x**2)\n",
    "    s = 0\n",
    "    i = 1\n",
    "    while True:\n",
    "        term = ((-2*x)**i)/(1 - x**i + x**(2*i))\n",
    "        s += term\n",
    "        if abs(s - target) < tol:\n",
    "            return i\n",
    "        i += 1\n",
    "if __name__ == \"__main__\":\n",
    "    print(\"Suma inversa [1,2,3]:\", suma_inversa([1,2,3]))\n",
    "    print(\"Raíces de x^2 - 5x +6:\", raices_cuadraticas(1, -5, 6))\n",
    "    print(\"Disc3 términos necesarios:\", serie_compuesta(0.25, 1e-6))"
   ]
  },
  {
   "cell_type": "code",
   "execution_count": null,
   "id": "d7d99f76",
   "metadata": {},
   "outputs": [],
   "source": []
  }
 ],
 "metadata": {
  "kernelspec": {
   "display_name": "Python 3",
   "language": "python",
   "name": "python3"
  },
  "language_info": {
   "codemirror_mode": {
    "name": "ipython",
    "version": 3
   },
   "file_extension": ".py",
   "mimetype": "text/x-python",
   "name": "python",
   "nbconvert_exporter": "python",
   "pygments_lexer": "ipython3",
   "version": "3.11.9"
  }
 },
 "nbformat": 4,
 "nbformat_minor": 5
}
